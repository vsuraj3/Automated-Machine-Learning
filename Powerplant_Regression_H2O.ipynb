{
 "cells": [
  {
   "cell_type": "code",
   "execution_count": 1,
   "metadata": {},
   "outputs": [
    {
     "name": "stdout",
     "output_type": "stream",
     "text": [
      "Checking whether there is an H2O instance running at http://localhost:54321 ..... not found.\n",
      "Attempting to start a local H2O server...\n",
      "; Java HotSpot(TM) 64-Bit Server VM (build 13.0.1+9, mixed mode, sharing)\n",
      "  Starting server from c:\\users\\vishw\\appdata\\local\\programs\\python\\python36\\lib\\site-packages\\h2o\\backend\\bin\\h2o.jar\n",
      "  Ice root: C:\\Users\\vishw\\AppData\\Local\\Temp\\tmprm8_xh1t\n",
      "  JVM stdout: C:\\Users\\vishw\\AppData\\Local\\Temp\\tmprm8_xh1t\\h2o_vishw_started_from_python.out\n",
      "  JVM stderr: C:\\Users\\vishw\\AppData\\Local\\Temp\\tmprm8_xh1t\\h2o_vishw_started_from_python.err\n",
      "  Server is running at http://127.0.0.1:54321\n",
      "Connecting to H2O server at http://127.0.0.1:54321 ... successful.\n"
     ]
    },
    {
     "data": {
      "text/html": [
       "<div style=\"overflow:auto\"><table style=\"width:50%\"><tr><td>H2O_cluster_uptime:</td>\n",
       "<td>02 secs</td></tr>\n",
       "<tr><td>H2O_cluster_timezone:</td>\n",
       "<td>America/New_York</td></tr>\n",
       "<tr><td>H2O_data_parsing_timezone:</td>\n",
       "<td>UTC</td></tr>\n",
       "<tr><td>H2O_cluster_version:</td>\n",
       "<td>3.30.0.1</td></tr>\n",
       "<tr><td>H2O_cluster_version_age:</td>\n",
       "<td>2 months and 1 day </td></tr>\n",
       "<tr><td>H2O_cluster_name:</td>\n",
       "<td>H2O_from_python_vishw_5t3zys</td></tr>\n",
       "<tr><td>H2O_cluster_total_nodes:</td>\n",
       "<td>1</td></tr>\n",
       "<tr><td>H2O_cluster_free_memory:</td>\n",
       "<td>1.945 Gb</td></tr>\n",
       "<tr><td>H2O_cluster_total_cores:</td>\n",
       "<td>8</td></tr>\n",
       "<tr><td>H2O_cluster_allowed_cores:</td>\n",
       "<td>8</td></tr>\n",
       "<tr><td>H2O_cluster_status:</td>\n",
       "<td>accepting new members, healthy</td></tr>\n",
       "<tr><td>H2O_connection_url:</td>\n",
       "<td>http://127.0.0.1:54321</td></tr>\n",
       "<tr><td>H2O_connection_proxy:</td>\n",
       "<td>{\"http\": null, \"https\": null, \"no\": \"192.168.99.100,192.168.99.101\"}</td></tr>\n",
       "<tr><td>H2O_internal_security:</td>\n",
       "<td>False</td></tr>\n",
       "<tr><td>H2O_API_Extensions:</td>\n",
       "<td>Amazon S3, Algos, AutoML, Core V3, TargetEncoder, Core V4</td></tr>\n",
       "<tr><td>Python_version:</td>\n",
       "<td>3.6.8 final</td></tr></table></div>"
      ],
      "text/plain": [
       "--------------------------  --------------------------------------------------------------------\n",
       "H2O_cluster_uptime:         02 secs\n",
       "H2O_cluster_timezone:       America/New_York\n",
       "H2O_data_parsing_timezone:  UTC\n",
       "H2O_cluster_version:        3.30.0.1\n",
       "H2O_cluster_version_age:    2 months and 1 day\n",
       "H2O_cluster_name:           H2O_from_python_vishw_5t3zys\n",
       "H2O_cluster_total_nodes:    1\n",
       "H2O_cluster_free_memory:    1.945 Gb\n",
       "H2O_cluster_total_cores:    8\n",
       "H2O_cluster_allowed_cores:  8\n",
       "H2O_cluster_status:         accepting new members, healthy\n",
       "H2O_connection_url:         http://127.0.0.1:54321\n",
       "H2O_connection_proxy:       {\"http\": null, \"https\": null, \"no\": \"192.168.99.100,192.168.99.101\"}\n",
       "H2O_internal_security:      False\n",
       "H2O_API_Extensions:         Amazon S3, Algos, AutoML, Core V3, TargetEncoder, Core V4\n",
       "Python_version:             3.6.8 final\n",
       "--------------------------  --------------------------------------------------------------------"
      ]
     },
     "metadata": {},
     "output_type": "display_data"
    }
   ],
   "source": [
    "import h2o\n",
    "from h2o.automl import H2OAutoML\n",
    "h2o.init()"
   ]
  },
  {
   "cell_type": "code",
   "execution_count": 2,
   "metadata": {},
   "outputs": [
    {
     "name": "stdout",
     "output_type": "stream",
     "text": [
      "Parse progress: |█████████████████████████████████████████████████████████| 100%\n"
     ]
    }
   ],
   "source": [
    "data_path=\"https://github.com/h2oai/h2o-tutorials/raw/master/h2o-world-2017/automl/data/powerplant_output.csv\"\n",
    "\n",
    "# Load data into H2O\n",
    "df = h2o.import_file(data_path)"
   ]
  },
  {
   "cell_type": "code",
   "execution_count": 3,
   "metadata": {},
   "outputs": [
    {
     "name": "stdout",
     "output_type": "stream",
     "text": [
      "Rows:9568\n",
      "Cols:5\n",
      "\n",
      "\n"
     ]
    },
    {
     "data": {
      "text/html": [
       "<table>\n",
       "<thead>\n",
       "<tr><th>       </th><th>TemperatureCelcius  </th><th>ExhaustVacuumHg   </th><th>AmbientPressureMillibar  </th><th>RelativeHumidity  </th><th>HourlyEnergyOutputMW  </th></tr>\n",
       "</thead>\n",
       "<tbody>\n",
       "<tr><td>type   </td><td>real                </td><td>real              </td><td>real                     </td><td>real              </td><td>real                  </td></tr>\n",
       "<tr><td>mins   </td><td>1.81                </td><td>25.36             </td><td>992.89                   </td><td>25.56             </td><td>420.26                </td></tr>\n",
       "<tr><td>mean   </td><td>19.651231187290968  </td><td>54.30580372073578 </td><td>1013.2590781772575       </td><td>73.30897784280936 </td><td>454.36500940635455    </td></tr>\n",
       "<tr><td>maxs   </td><td>37.11               </td><td>81.56             </td><td>1033.3                   </td><td>100.16            </td><td>495.76                </td></tr>\n",
       "<tr><td>sigma  </td><td>7.452473229611079   </td><td>12.707892998326809</td><td>5.938783705811604        </td><td>14.600268756728953</td><td>17.066994999803416    </td></tr>\n",
       "<tr><td>zeros  </td><td>0                   </td><td>0                 </td><td>0                        </td><td>0                 </td><td>0                     </td></tr>\n",
       "<tr><td>missing</td><td>0                   </td><td>0                 </td><td>0                        </td><td>0                 </td><td>0                     </td></tr>\n",
       "<tr><td>0      </td><td>14.96               </td><td>41.76             </td><td>1024.07                  </td><td>73.17             </td><td>463.26                </td></tr>\n",
       "<tr><td>1      </td><td>25.18               </td><td>62.96             </td><td>1020.04                  </td><td>59.08             </td><td>444.37                </td></tr>\n",
       "<tr><td>2      </td><td>5.11                </td><td>39.4              </td><td>1012.16                  </td><td>92.14             </td><td>488.56                </td></tr>\n",
       "<tr><td>3      </td><td>20.86               </td><td>57.32             </td><td>1010.24                  </td><td>76.64             </td><td>446.48                </td></tr>\n",
       "<tr><td>4      </td><td>10.82               </td><td>37.5              </td><td>1009.23                  </td><td>96.62             </td><td>473.9                 </td></tr>\n",
       "<tr><td>5      </td><td>26.27               </td><td>59.44             </td><td>1012.23                  </td><td>58.77             </td><td>443.67                </td></tr>\n",
       "<tr><td>6      </td><td>15.89               </td><td>43.96             </td><td>1014.02                  </td><td>75.24             </td><td>467.35                </td></tr>\n",
       "<tr><td>7      </td><td>9.48                </td><td>44.71             </td><td>1019.12                  </td><td>66.43             </td><td>478.42                </td></tr>\n",
       "<tr><td>8      </td><td>14.64               </td><td>45.0              </td><td>1021.78                  </td><td>41.25             </td><td>475.98                </td></tr>\n",
       "<tr><td>9      </td><td>11.74               </td><td>43.56             </td><td>1015.14                  </td><td>70.72             </td><td>477.5                 </td></tr>\n",
       "</tbody>\n",
       "</table>"
      ]
     },
     "metadata": {},
     "output_type": "display_data"
    }
   ],
   "source": [
    "df.describe()"
   ]
  },
  {
   "cell_type": "code",
   "execution_count": 4,
   "metadata": {},
   "outputs": [],
   "source": [
    "y = \"HourlyEnergyOutputMW\""
   ]
  },
  {
   "cell_type": "code",
   "execution_count": 5,
   "metadata": {},
   "outputs": [],
   "source": [
    "splits = df.split_frame(ratios = [0.8], seed = 1)\n",
    "train = splits[0]\n",
    "test = splits[1]"
   ]
  },
  {
   "cell_type": "code",
   "execution_count": 6,
   "metadata": {},
   "outputs": [
    {
     "name": "stdout",
     "output_type": "stream",
     "text": [
      "AutoML progress: |\n",
      "21:16:19.293: AutoML: XGBoost is not available; skipping it.\n",
      "\n",
      "████████████████████████████████████████████████████████| 100%\n"
     ]
    }
   ],
   "source": [
    "aml = H2OAutoML(max_runtime_secs = 60, seed = 1, project_name = \"powerplant_lb_frame\")\n",
    "aml.train(y = y, training_frame = train, leaderboard_frame = test)"
   ]
  },
  {
   "cell_type": "code",
   "execution_count": 7,
   "metadata": {},
   "outputs": [
    {
     "data": {
      "text/html": [
       "<table>\n",
       "<thead>\n",
       "<tr><th>model_id                                  </th><th style=\"text-align: right;\">  mean_residual_deviance</th><th style=\"text-align: right;\">   rmse</th><th style=\"text-align: right;\">    mse</th><th style=\"text-align: right;\">    mae</th><th style=\"text-align: right;\">     rmsle</th></tr>\n",
       "</thead>\n",
       "<tbody>\n",
       "<tr><td>GBM_4_AutoML_20200604_211619              </td><td style=\"text-align: right;\">                 10.4884</td><td style=\"text-align: right;\">3.23858</td><td style=\"text-align: right;\">10.4884</td><td style=\"text-align: right;\">2.24681</td><td style=\"text-align: right;\">0.00713384</td></tr>\n",
       "<tr><td>GBM_3_AutoML_20200604_211619              </td><td style=\"text-align: right;\">                 11.1887</td><td style=\"text-align: right;\">3.34496</td><td style=\"text-align: right;\">11.1887</td><td style=\"text-align: right;\">2.35355</td><td style=\"text-align: right;\">0.00736291</td></tr>\n",
       "<tr><td>GBM_2_AutoML_20200604_211619              </td><td style=\"text-align: right;\">                 11.7178</td><td style=\"text-align: right;\">3.42313</td><td style=\"text-align: right;\">11.7178</td><td style=\"text-align: right;\">2.43236</td><td style=\"text-align: right;\">0.00753936</td></tr>\n",
       "<tr><td>GBM_grid__1_AutoML_20200604_211619_model_5</td><td style=\"text-align: right;\">                 11.9668</td><td style=\"text-align: right;\">3.45931</td><td style=\"text-align: right;\">11.9668</td><td style=\"text-align: right;\">2.42902</td><td style=\"text-align: right;\">0.00762467</td></tr>\n",
       "<tr><td>GBM_grid__1_AutoML_20200604_211619_model_4</td><td style=\"text-align: right;\">                 12.2086</td><td style=\"text-align: right;\">3.49409</td><td style=\"text-align: right;\">12.2086</td><td style=\"text-align: right;\">2.46433</td><td style=\"text-align: right;\">0.00769577</td></tr>\n",
       "<tr><td>XRT_1_AutoML_20200604_211619              </td><td style=\"text-align: right;\">                 12.6359</td><td style=\"text-align: right;\">3.5547 </td><td style=\"text-align: right;\">12.6359</td><td style=\"text-align: right;\">2.51276</td><td style=\"text-align: right;\">0.0078428 </td></tr>\n",
       "<tr><td>GBM_grid__1_AutoML_20200604_211619_model_6</td><td style=\"text-align: right;\">                 12.8486</td><td style=\"text-align: right;\">3.58449</td><td style=\"text-align: right;\">12.8486</td><td style=\"text-align: right;\">2.60439</td><td style=\"text-align: right;\">0.00789145</td></tr>\n",
       "<tr><td>GBM_grid__1_AutoML_20200604_211619_model_2</td><td style=\"text-align: right;\">                 12.8746</td><td style=\"text-align: right;\">3.58811</td><td style=\"text-align: right;\">12.8746</td><td style=\"text-align: right;\">2.60445</td><td style=\"text-align: right;\">0.00790374</td></tr>\n",
       "<tr><td>GBM_1_AutoML_20200604_211619              </td><td style=\"text-align: right;\">                 13.0668</td><td style=\"text-align: right;\">3.6148 </td><td style=\"text-align: right;\">13.0668</td><td style=\"text-align: right;\">2.58808</td><td style=\"text-align: right;\">0.00796518</td></tr>\n",
       "<tr><td>GBM_5_AutoML_20200604_211619              </td><td style=\"text-align: right;\">                 13.5758</td><td style=\"text-align: right;\">3.68453</td><td style=\"text-align: right;\">13.5758</td><td style=\"text-align: right;\">2.67988</td><td style=\"text-align: right;\">0.00809465</td></tr>\n",
       "</tbody>\n",
       "</table>"
      ]
     },
     "metadata": {},
     "output_type": "display_data"
    },
    {
     "data": {
      "text/plain": []
     },
     "execution_count": 7,
     "metadata": {},
     "output_type": "execute_result"
    }
   ],
   "source": [
    "aml.leaderboard.head()"
   ]
  },
  {
   "cell_type": "code",
   "execution_count": 10,
   "metadata": {},
   "outputs": [
    {
     "name": "stdout",
     "output_type": "stream",
     "text": [
      "gbm prediction progress: |████████████████████████████████████████████████| 100%\n"
     ]
    },
    {
     "data": {
      "text/html": [
       "<table>\n",
       "<thead>\n",
       "<tr><th style=\"text-align: right;\">  predict</th></tr>\n",
       "</thead>\n",
       "<tbody>\n",
       "<tr><td style=\"text-align: right;\">  486.385</td></tr>\n",
       "<tr><td style=\"text-align: right;\">  473.862</td></tr>\n",
       "<tr><td style=\"text-align: right;\">  466.246</td></tr>\n",
       "<tr><td style=\"text-align: right;\">  452.421</td></tr>\n",
       "<tr><td style=\"text-align: right;\">  447.859</td></tr>\n",
       "<tr><td style=\"text-align: right;\">  469.419</td></tr>\n",
       "<tr><td style=\"text-align: right;\">  442.53 </td></tr>\n",
       "<tr><td style=\"text-align: right;\">  464.351</td></tr>\n",
       "<tr><td style=\"text-align: right;\">  442.865</td></tr>\n",
       "<tr><td style=\"text-align: right;\">  431.683</td></tr>\n",
       "</tbody>\n",
       "</table>"
      ]
     },
     "metadata": {},
     "output_type": "display_data"
    },
    {
     "data": {
      "text/plain": []
     },
     "execution_count": 10,
     "metadata": {},
     "output_type": "execute_result"
    }
   ],
   "source": [
    "pred = aml.predict(test)\n",
    "pred.head()"
   ]
  },
  {
   "cell_type": "code",
   "execution_count": 11,
   "metadata": {},
   "outputs": [
    {
     "name": "stdout",
     "output_type": "stream",
     "text": [
      "\n",
      "ModelMetricsRegression: gbm\n",
      "** Reported on test data. **\n",
      "\n",
      "MSE: 10.488406266906058\n",
      "RMSE: 3.238580903251617\n",
      "MAE: 2.2468129614124814\n",
      "RMSLE: 0.007133840642635012\n",
      "Mean Residual Deviance: 10.488406266906058\n"
     ]
    },
    {
     "data": {
      "text/plain": []
     },
     "execution_count": 11,
     "metadata": {},
     "output_type": "execute_result"
    }
   ],
   "source": [
    "perf = aml.leader.model_performance(test)\n",
    "perf"
   ]
  },
  {
   "cell_type": "code",
   "execution_count": null,
   "metadata": {},
   "outputs": [],
   "source": []
  }
 ],
 "metadata": {
  "kernelspec": {
   "display_name": "Python 3",
   "language": "python",
   "name": "python3"
  },
  "language_info": {
   "codemirror_mode": {
    "name": "ipython",
    "version": 3
   },
   "file_extension": ".py",
   "mimetype": "text/x-python",
   "name": "python",
   "nbconvert_exporter": "python",
   "pygments_lexer": "ipython3",
   "version": "3.6.8"
  }
 },
 "nbformat": 4,
 "nbformat_minor": 2
}
