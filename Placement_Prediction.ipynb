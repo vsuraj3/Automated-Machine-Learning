{
 "cells": [
  {
   "cell_type": "code",
   "execution_count": 1,
   "metadata": {},
   "outputs": [],
   "source": [
    "import h2o"
   ]
  },
  {
   "cell_type": "code",
   "execution_count": 2,
   "metadata": {},
   "outputs": [
    {
     "name": "stdout",
     "output_type": "stream",
     "text": [
      "Checking whether there is an H2O instance running at http://localhost:54321 ..... not found.\n",
      "Attempting to start a local H2O server...\n",
      "; Java HotSpot(TM) 64-Bit Server VM (build 13.0.1+9, mixed mode, sharing)\n",
      "  Starting server from c:\\users\\vishw\\appdata\\local\\programs\\python\\python36\\lib\\site-packages\\h2o\\backend\\bin\\h2o.jar\n",
      "  Ice root: C:\\Users\\vishw\\AppData\\Local\\Temp\\tmprmal5zgk\n",
      "  JVM stdout: C:\\Users\\vishw\\AppData\\Local\\Temp\\tmprmal5zgk\\h2o_vishw_started_from_python.out\n",
      "  JVM stderr: C:\\Users\\vishw\\AppData\\Local\\Temp\\tmprmal5zgk\\h2o_vishw_started_from_python.err\n",
      "  Server is running at http://127.0.0.1:54321\n",
      "Connecting to H2O server at http://127.0.0.1:54321 ... successful.\n"
     ]
    },
    {
     "data": {
      "text/html": [
       "<div style=\"overflow:auto\"><table style=\"width:50%\"><tr><td>H2O_cluster_uptime:</td>\n",
       "<td>06 secs</td></tr>\n",
       "<tr><td>H2O_cluster_timezone:</td>\n",
       "<td>America/New_York</td></tr>\n",
       "<tr><td>H2O_data_parsing_timezone:</td>\n",
       "<td>UTC</td></tr>\n",
       "<tr><td>H2O_cluster_version:</td>\n",
       "<td>3.30.0.1</td></tr>\n",
       "<tr><td>H2O_cluster_version_age:</td>\n",
       "<td>2 months and 12 days </td></tr>\n",
       "<tr><td>H2O_cluster_name:</td>\n",
       "<td>H2O_from_python_vishw_zfbpz4</td></tr>\n",
       "<tr><td>H2O_cluster_total_nodes:</td>\n",
       "<td>1</td></tr>\n",
       "<tr><td>H2O_cluster_free_memory:</td>\n",
       "<td>1.945 Gb</td></tr>\n",
       "<tr><td>H2O_cluster_total_cores:</td>\n",
       "<td>8</td></tr>\n",
       "<tr><td>H2O_cluster_allowed_cores:</td>\n",
       "<td>8</td></tr>\n",
       "<tr><td>H2O_cluster_status:</td>\n",
       "<td>accepting new members, healthy</td></tr>\n",
       "<tr><td>H2O_connection_url:</td>\n",
       "<td>http://127.0.0.1:54321</td></tr>\n",
       "<tr><td>H2O_connection_proxy:</td>\n",
       "<td>{\"http\": null, \"https\": null, \"no\": \"192.168.99.100,192.168.99.101\"}</td></tr>\n",
       "<tr><td>H2O_internal_security:</td>\n",
       "<td>False</td></tr>\n",
       "<tr><td>H2O_API_Extensions:</td>\n",
       "<td>Amazon S3, Algos, AutoML, Core V3, TargetEncoder, Core V4</td></tr>\n",
       "<tr><td>Python_version:</td>\n",
       "<td>3.6.8 final</td></tr></table></div>"
      ],
      "text/plain": [
       "--------------------------  --------------------------------------------------------------------\n",
       "H2O_cluster_uptime:         06 secs\n",
       "H2O_cluster_timezone:       America/New_York\n",
       "H2O_data_parsing_timezone:  UTC\n",
       "H2O_cluster_version:        3.30.0.1\n",
       "H2O_cluster_version_age:    2 months and 12 days\n",
       "H2O_cluster_name:           H2O_from_python_vishw_zfbpz4\n",
       "H2O_cluster_total_nodes:    1\n",
       "H2O_cluster_free_memory:    1.945 Gb\n",
       "H2O_cluster_total_cores:    8\n",
       "H2O_cluster_allowed_cores:  8\n",
       "H2O_cluster_status:         accepting new members, healthy\n",
       "H2O_connection_url:         http://127.0.0.1:54321\n",
       "H2O_connection_proxy:       {\"http\": null, \"https\": null, \"no\": \"192.168.99.100,192.168.99.101\"}\n",
       "H2O_internal_security:      False\n",
       "H2O_API_Extensions:         Amazon S3, Algos, AutoML, Core V3, TargetEncoder, Core V4\n",
       "Python_version:             3.6.8 final\n",
       "--------------------------  --------------------------------------------------------------------"
      ]
     },
     "metadata": {},
     "output_type": "display_data"
    }
   ],
   "source": [
    "h2o.init()"
   ]
  },
  {
   "cell_type": "code",
   "execution_count": 3,
   "metadata": {},
   "outputs": [],
   "source": [
    "data=\"C:/Users/vishw/Downloads/datasets_596958_1073629_Placement_Data_Full_Class.csv\""
   ]
  },
  {
   "cell_type": "code",
   "execution_count": 4,
   "metadata": {},
   "outputs": [
    {
     "name": "stdout",
     "output_type": "stream",
     "text": [
      "Parse progress: |█████████████████████████████████████████████████████████| 100%\n"
     ]
    }
   ],
   "source": [
    "campus=h2o.import_file(data)"
   ]
  },
  {
   "cell_type": "code",
   "execution_count": 5,
   "metadata": {},
   "outputs": [
    {
     "data": {
      "text/html": [
       "<table>\n",
       "<thead>\n",
       "<tr><th style=\"text-align: right;\">  sl_no</th><th>gender  </th><th style=\"text-align: right;\">  ssc_p</th><th>ssc_b  </th><th style=\"text-align: right;\">  hsc_p</th><th>hsc_b  </th><th>hsc_s   </th><th style=\"text-align: right;\">  degree_p</th><th>degree_t  </th><th>workex  </th><th style=\"text-align: right;\">  etest_p</th><th>specialisation  </th><th style=\"text-align: right;\">  mba_p</th><th>status    </th><th style=\"text-align: right;\">  salary</th></tr>\n",
       "</thead>\n",
       "<tbody>\n",
       "<tr><td style=\"text-align: right;\">      1</td><td>M       </td><td style=\"text-align: right;\">  67   </td><td>Others </td><td style=\"text-align: right;\">  91   </td><td>Others </td><td>Commerce</td><td style=\"text-align: right;\">     58   </td><td>Sci&amp;Tech  </td><td>No      </td><td style=\"text-align: right;\">    55   </td><td>Mkt&amp;HR          </td><td style=\"text-align: right;\">  58.8 </td><td>Placed    </td><td style=\"text-align: right;\">  270000</td></tr>\n",
       "<tr><td style=\"text-align: right;\">      2</td><td>M       </td><td style=\"text-align: right;\">  79.33</td><td>Central</td><td style=\"text-align: right;\">  78.33</td><td>Others </td><td>Science </td><td style=\"text-align: right;\">     77.48</td><td>Sci&amp;Tech  </td><td>Yes     </td><td style=\"text-align: right;\">    86.5 </td><td>Mkt&amp;Fin         </td><td style=\"text-align: right;\">  66.28</td><td>Placed    </td><td style=\"text-align: right;\">  200000</td></tr>\n",
       "<tr><td style=\"text-align: right;\">      3</td><td>M       </td><td style=\"text-align: right;\">  65   </td><td>Central</td><td style=\"text-align: right;\">  68   </td><td>Central</td><td>Arts    </td><td style=\"text-align: right;\">     64   </td><td>Comm&amp;Mgmt </td><td>No      </td><td style=\"text-align: right;\">    75   </td><td>Mkt&amp;Fin         </td><td style=\"text-align: right;\">  57.8 </td><td>Placed    </td><td style=\"text-align: right;\">  250000</td></tr>\n",
       "<tr><td style=\"text-align: right;\">      4</td><td>M       </td><td style=\"text-align: right;\">  56   </td><td>Central</td><td style=\"text-align: right;\">  52   </td><td>Central</td><td>Science </td><td style=\"text-align: right;\">     52   </td><td>Sci&amp;Tech  </td><td>No      </td><td style=\"text-align: right;\">    66   </td><td>Mkt&amp;HR          </td><td style=\"text-align: right;\">  59.43</td><td>Not Placed</td><td style=\"text-align: right;\">     nan</td></tr>\n",
       "<tr><td style=\"text-align: right;\">      5</td><td>M       </td><td style=\"text-align: right;\">  85.8 </td><td>Central</td><td style=\"text-align: right;\">  73.6 </td><td>Central</td><td>Commerce</td><td style=\"text-align: right;\">     73.3 </td><td>Comm&amp;Mgmt </td><td>No      </td><td style=\"text-align: right;\">    96.8 </td><td>Mkt&amp;Fin         </td><td style=\"text-align: right;\">  55.5 </td><td>Placed    </td><td style=\"text-align: right;\">  425000</td></tr>\n",
       "<tr><td style=\"text-align: right;\">      6</td><td>M       </td><td style=\"text-align: right;\">  55   </td><td>Others </td><td style=\"text-align: right;\">  49.8 </td><td>Others </td><td>Science </td><td style=\"text-align: right;\">     67.25</td><td>Sci&amp;Tech  </td><td>Yes     </td><td style=\"text-align: right;\">    55   </td><td>Mkt&amp;Fin         </td><td style=\"text-align: right;\">  51.58</td><td>Not Placed</td><td style=\"text-align: right;\">     nan</td></tr>\n",
       "<tr><td style=\"text-align: right;\">      7</td><td>F       </td><td style=\"text-align: right;\">  46   </td><td>Others </td><td style=\"text-align: right;\">  49.2 </td><td>Others </td><td>Commerce</td><td style=\"text-align: right;\">     79   </td><td>Comm&amp;Mgmt </td><td>No      </td><td style=\"text-align: right;\">    74.28</td><td>Mkt&amp;Fin         </td><td style=\"text-align: right;\">  53.29</td><td>Not Placed</td><td style=\"text-align: right;\">     nan</td></tr>\n",
       "<tr><td style=\"text-align: right;\">      8</td><td>M       </td><td style=\"text-align: right;\">  82   </td><td>Central</td><td style=\"text-align: right;\">  64   </td><td>Central</td><td>Science </td><td style=\"text-align: right;\">     66   </td><td>Sci&amp;Tech  </td><td>Yes     </td><td style=\"text-align: right;\">    67   </td><td>Mkt&amp;Fin         </td><td style=\"text-align: right;\">  62.14</td><td>Placed    </td><td style=\"text-align: right;\">  252000</td></tr>\n",
       "<tr><td style=\"text-align: right;\">      9</td><td>M       </td><td style=\"text-align: right;\">  73   </td><td>Central</td><td style=\"text-align: right;\">  79   </td><td>Central</td><td>Commerce</td><td style=\"text-align: right;\">     72   </td><td>Comm&amp;Mgmt </td><td>No      </td><td style=\"text-align: right;\">    91.34</td><td>Mkt&amp;Fin         </td><td style=\"text-align: right;\">  61.29</td><td>Placed    </td><td style=\"text-align: right;\">  231000</td></tr>\n",
       "<tr><td style=\"text-align: right;\">     10</td><td>M       </td><td style=\"text-align: right;\">  58   </td><td>Central</td><td style=\"text-align: right;\">  70   </td><td>Central</td><td>Commerce</td><td style=\"text-align: right;\">     61   </td><td>Comm&amp;Mgmt </td><td>No      </td><td style=\"text-align: right;\">    54   </td><td>Mkt&amp;Fin         </td><td style=\"text-align: right;\">  52.21</td><td>Not Placed</td><td style=\"text-align: right;\">     nan</td></tr>\n",
       "</tbody>\n",
       "</table>"
      ]
     },
     "metadata": {},
     "output_type": "display_data"
    },
    {
     "data": {
      "text/plain": []
     },
     "execution_count": 5,
     "metadata": {},
     "output_type": "execute_result"
    }
   ],
   "source": [
    "campus"
   ]
  },
  {
   "cell_type": "code",
   "execution_count": 6,
   "metadata": {},
   "outputs": [],
   "source": [
    "campus[campus[\"salary\"].isna(), \"salary\"] = 0"
   ]
  },
  {
   "cell_type": "code",
   "execution_count": 7,
   "metadata": {},
   "outputs": [],
   "source": [
    "cols_1 = campus[:, [1, 2,4,6,7,8,9,10,11,12,13,14]]"
   ]
  },
  {
   "cell_type": "code",
   "execution_count": 8,
   "metadata": {},
   "outputs": [],
   "source": [
    "import sklearn \n",
    "from sklearn.preprocessing import LabelEncoder"
   ]
  },
  {
   "cell_type": "code",
   "execution_count": 9,
   "metadata": {},
   "outputs": [],
   "source": [
    "object_cols=['gender','workex','specialisation','status']"
   ]
  },
  {
   "cell_type": "code",
   "execution_count": 10,
   "metadata": {},
   "outputs": [],
   "source": [
    "label_encoder = LabelEncoder()"
   ]
  },
  {
   "cell_type": "code",
   "execution_count": 13,
   "metadata": {},
   "outputs": [],
   "source": [
    "import pandas as pd"
   ]
  },
  {
   "cell_type": "code",
   "execution_count": 15,
   "metadata": {},
   "outputs": [],
   "source": [
    "from sklearn.compose import ColumnTransformer\n",
    "from sklearn.preprocessing import OneHotEncoder"
   ]
  },
  {
   "cell_type": "code",
   "execution_count": 16,
   "metadata": {},
   "outputs": [
    {
     "data": {
      "text/html": [
       "<table>\n",
       "<thead>\n",
       "<tr><th>gender  </th><th style=\"text-align: right;\">  ssc_p</th><th style=\"text-align: right;\">  hsc_p</th><th>hsc_s   </th><th style=\"text-align: right;\">  degree_p</th><th>degree_t  </th><th>workex  </th><th style=\"text-align: right;\">  etest_p</th><th>specialisation  </th><th style=\"text-align: right;\">  mba_p</th><th>status    </th><th style=\"text-align: right;\">  salary</th></tr>\n",
       "</thead>\n",
       "<tbody>\n",
       "<tr><td>M       </td><td style=\"text-align: right;\">  67   </td><td style=\"text-align: right;\">  91   </td><td>Commerce</td><td style=\"text-align: right;\">     58   </td><td>Sci&amp;Tech  </td><td>No      </td><td style=\"text-align: right;\">    55   </td><td>Mkt&amp;HR          </td><td style=\"text-align: right;\">  58.8 </td><td>Placed    </td><td style=\"text-align: right;\">  270000</td></tr>\n",
       "<tr><td>M       </td><td style=\"text-align: right;\">  79.33</td><td style=\"text-align: right;\">  78.33</td><td>Science </td><td style=\"text-align: right;\">     77.48</td><td>Sci&amp;Tech  </td><td>Yes     </td><td style=\"text-align: right;\">    86.5 </td><td>Mkt&amp;Fin         </td><td style=\"text-align: right;\">  66.28</td><td>Placed    </td><td style=\"text-align: right;\">  200000</td></tr>\n",
       "<tr><td>M       </td><td style=\"text-align: right;\">  65   </td><td style=\"text-align: right;\">  68   </td><td>Arts    </td><td style=\"text-align: right;\">     64   </td><td>Comm&amp;Mgmt </td><td>No      </td><td style=\"text-align: right;\">    75   </td><td>Mkt&amp;Fin         </td><td style=\"text-align: right;\">  57.8 </td><td>Placed    </td><td style=\"text-align: right;\">  250000</td></tr>\n",
       "<tr><td>M       </td><td style=\"text-align: right;\">  56   </td><td style=\"text-align: right;\">  52   </td><td>Science </td><td style=\"text-align: right;\">     52   </td><td>Sci&amp;Tech  </td><td>No      </td><td style=\"text-align: right;\">    66   </td><td>Mkt&amp;HR          </td><td style=\"text-align: right;\">  59.43</td><td>Not Placed</td><td style=\"text-align: right;\">       0</td></tr>\n",
       "<tr><td>M       </td><td style=\"text-align: right;\">  85.8 </td><td style=\"text-align: right;\">  73.6 </td><td>Commerce</td><td style=\"text-align: right;\">     73.3 </td><td>Comm&amp;Mgmt </td><td>No      </td><td style=\"text-align: right;\">    96.8 </td><td>Mkt&amp;Fin         </td><td style=\"text-align: right;\">  55.5 </td><td>Placed    </td><td style=\"text-align: right;\">  425000</td></tr>\n",
       "<tr><td>M       </td><td style=\"text-align: right;\">  55   </td><td style=\"text-align: right;\">  49.8 </td><td>Science </td><td style=\"text-align: right;\">     67.25</td><td>Sci&amp;Tech  </td><td>Yes     </td><td style=\"text-align: right;\">    55   </td><td>Mkt&amp;Fin         </td><td style=\"text-align: right;\">  51.58</td><td>Not Placed</td><td style=\"text-align: right;\">       0</td></tr>\n",
       "<tr><td>F       </td><td style=\"text-align: right;\">  46   </td><td style=\"text-align: right;\">  49.2 </td><td>Commerce</td><td style=\"text-align: right;\">     79   </td><td>Comm&amp;Mgmt </td><td>No      </td><td style=\"text-align: right;\">    74.28</td><td>Mkt&amp;Fin         </td><td style=\"text-align: right;\">  53.29</td><td>Not Placed</td><td style=\"text-align: right;\">       0</td></tr>\n",
       "<tr><td>M       </td><td style=\"text-align: right;\">  82   </td><td style=\"text-align: right;\">  64   </td><td>Science </td><td style=\"text-align: right;\">     66   </td><td>Sci&amp;Tech  </td><td>Yes     </td><td style=\"text-align: right;\">    67   </td><td>Mkt&amp;Fin         </td><td style=\"text-align: right;\">  62.14</td><td>Placed    </td><td style=\"text-align: right;\">  252000</td></tr>\n",
       "<tr><td>M       </td><td style=\"text-align: right;\">  73   </td><td style=\"text-align: right;\">  79   </td><td>Commerce</td><td style=\"text-align: right;\">     72   </td><td>Comm&amp;Mgmt </td><td>No      </td><td style=\"text-align: right;\">    91.34</td><td>Mkt&amp;Fin         </td><td style=\"text-align: right;\">  61.29</td><td>Placed    </td><td style=\"text-align: right;\">  231000</td></tr>\n",
       "<tr><td>M       </td><td style=\"text-align: right;\">  58   </td><td style=\"text-align: right;\">  70   </td><td>Commerce</td><td style=\"text-align: right;\">     61   </td><td>Comm&amp;Mgmt </td><td>No      </td><td style=\"text-align: right;\">    54   </td><td>Mkt&amp;Fin         </td><td style=\"text-align: right;\">  52.21</td><td>Not Placed</td><td style=\"text-align: right;\">       0</td></tr>\n",
       "</tbody>\n",
       "</table>"
      ]
     },
     "metadata": {},
     "output_type": "display_data"
    },
    {
     "data": {
      "text/plain": []
     },
     "execution_count": 16,
     "metadata": {},
     "output_type": "execute_result"
    }
   ],
   "source": [
    "cols_1"
   ]
  },
  {
   "cell_type": "code",
   "execution_count": 20,
   "metadata": {},
   "outputs": [],
   "source": [
    "import numpy as np\n",
    "ohe = OneHotEncoder()"
   ]
  },
  {
   "cell_type": "markdown",
   "metadata": {},
   "source": [
    "cols_1"
   ]
  },
  {
   "cell_type": "code",
   "execution_count": 21,
   "metadata": {},
   "outputs": [],
   "source": [
    "train,test,valid=cols_1.split_frame(ratios=[.7,.15])"
   ]
  },
  {
   "cell_type": "code",
   "execution_count": 24,
   "metadata": {},
   "outputs": [],
   "source": [
    "x = cols_1.columns"
   ]
  },
  {
   "cell_type": "code",
   "execution_count": 25,
   "metadata": {},
   "outputs": [],
   "source": [
    "y='status'"
   ]
  },
  {
   "cell_type": "code",
   "execution_count": 26,
   "metadata": {},
   "outputs": [],
   "source": [
    "x.remove(y)"
   ]
  },
  {
   "cell_type": "code",
   "execution_count": 27,
   "metadata": {},
   "outputs": [
    {
     "data": {
      "text/plain": [
       "['gender',\n",
       " 'ssc_p',\n",
       " 'hsc_p',\n",
       " 'hsc_s',\n",
       " 'degree_p',\n",
       " 'degree_t',\n",
       " 'workex',\n",
       " 'etest_p',\n",
       " 'specialisation',\n",
       " 'mba_p',\n",
       " 'salary']"
      ]
     },
     "execution_count": 27,
     "metadata": {},
     "output_type": "execute_result"
    }
   ],
   "source": [
    "x"
   ]
  },
  {
   "cell_type": "code",
   "execution_count": 34,
   "metadata": {},
   "outputs": [
    {
     "data": {
      "text/html": [
       "<table>\n",
       "<thead>\n",
       "<tr><th style=\"text-align: right;\">  Probs</th><th style=\"text-align: right;\">  genderQuantiles</th><th style=\"text-align: right;\">  ssc_pQuantiles</th><th style=\"text-align: right;\">  hsc_pQuantiles</th><th style=\"text-align: right;\">  hsc_sQuantiles</th><th style=\"text-align: right;\">  degree_pQuantiles</th><th style=\"text-align: right;\">  degree_tQuantiles</th><th style=\"text-align: right;\">  workexQuantiles</th><th style=\"text-align: right;\">  etest_pQuantiles</th><th style=\"text-align: right;\">  specialisationQuantiles</th><th style=\"text-align: right;\">  mba_pQuantiles</th><th style=\"text-align: right;\">  statusQuantiles</th><th style=\"text-align: right;\">  salaryQuantiles</th></tr>\n",
       "</thead>\n",
       "<tbody>\n",
       "<tr><td style=\"text-align: right;\">  0.01 </td><td style=\"text-align: right;\">              nan</td><td style=\"text-align: right;\">          43.14 </td><td style=\"text-align: right;\">           40.28</td><td style=\"text-align: right;\">             nan</td><td style=\"text-align: right;\">             50.968</td><td style=\"text-align: right;\">                nan</td><td style=\"text-align: right;\">              nan</td><td style=\"text-align: right;\">           50.0672</td><td style=\"text-align: right;\">                      nan</td><td style=\"text-align: right;\">         51.4682</td><td style=\"text-align: right;\">              nan</td><td style=\"text-align: right;\">                0</td></tr>\n",
       "<tr><td style=\"text-align: right;\">  0.1  </td><td style=\"text-align: right;\">              nan</td><td style=\"text-align: right;\">          52    </td><td style=\"text-align: right;\">           52   </td><td style=\"text-align: right;\">             nan</td><td style=\"text-align: right;\">             57    </td><td style=\"text-align: right;\">                nan</td><td style=\"text-align: right;\">              nan</td><td style=\"text-align: right;\">           55.802 </td><td style=\"text-align: right;\">                      nan</td><td style=\"text-align: right;\">         54.986 </td><td style=\"text-align: right;\">              nan</td><td style=\"text-align: right;\">                0</td></tr>\n",
       "<tr><td style=\"text-align: right;\">  0.25 </td><td style=\"text-align: right;\">              nan</td><td style=\"text-align: right;\">          60.6  </td><td style=\"text-align: right;\">           60.9 </td><td style=\"text-align: right;\">             nan</td><td style=\"text-align: right;\">             61    </td><td style=\"text-align: right;\">                nan</td><td style=\"text-align: right;\">              nan</td><td style=\"text-align: right;\">           60     </td><td style=\"text-align: right;\">                      nan</td><td style=\"text-align: right;\">         57.945 </td><td style=\"text-align: right;\">              nan</td><td style=\"text-align: right;\">                0</td></tr>\n",
       "<tr><td style=\"text-align: right;\">  0.333</td><td style=\"text-align: right;\">              nan</td><td style=\"text-align: right;\">          62.262</td><td style=\"text-align: right;\">           62   </td><td style=\"text-align: right;\">             nan</td><td style=\"text-align: right;\">             64    </td><td style=\"text-align: right;\">                nan</td><td style=\"text-align: right;\">              nan</td><td style=\"text-align: right;\">           63.845 </td><td style=\"text-align: right;\">                      nan</td><td style=\"text-align: right;\">         59.261 </td><td style=\"text-align: right;\">              nan</td><td style=\"text-align: right;\">           200000</td></tr>\n",
       "<tr><td style=\"text-align: right;\">  0.5  </td><td style=\"text-align: right;\">              nan</td><td style=\"text-align: right;\">          67    </td><td style=\"text-align: right;\">           65   </td><td style=\"text-align: right;\">             nan</td><td style=\"text-align: right;\">             66    </td><td style=\"text-align: right;\">                nan</td><td style=\"text-align: right;\">              nan</td><td style=\"text-align: right;\">           71     </td><td style=\"text-align: right;\">                      nan</td><td style=\"text-align: right;\">         62     </td><td style=\"text-align: right;\">              nan</td><td style=\"text-align: right;\">           240000</td></tr>\n",
       "<tr><td style=\"text-align: right;\">  0.667</td><td style=\"text-align: right;\">              nan</td><td style=\"text-align: right;\">          73    </td><td style=\"text-align: right;\">           70   </td><td style=\"text-align: right;\">             nan</td><td style=\"text-align: right;\">             69    </td><td style=\"text-align: right;\">                nan</td><td style=\"text-align: right;\">              nan</td><td style=\"text-align: right;\">           78.5461</td><td style=\"text-align: right;\">                      nan</td><td style=\"text-align: right;\">         64.719 </td><td style=\"text-align: right;\">              nan</td><td style=\"text-align: right;\">           265000</td></tr>\n",
       "<tr><td style=\"text-align: right;\">  0.75 </td><td style=\"text-align: right;\">              nan</td><td style=\"text-align: right;\">          75.7  </td><td style=\"text-align: right;\">           73   </td><td style=\"text-align: right;\">             nan</td><td style=\"text-align: right;\">             72    </td><td style=\"text-align: right;\">                nan</td><td style=\"text-align: right;\">              nan</td><td style=\"text-align: right;\">           83.5   </td><td style=\"text-align: right;\">                      nan</td><td style=\"text-align: right;\">         66.255 </td><td style=\"text-align: right;\">              nan</td><td style=\"text-align: right;\">           282500</td></tr>\n",
       "<tr><td style=\"text-align: right;\">  0.9  </td><td style=\"text-align: right;\">              nan</td><td style=\"text-align: right;\">          82    </td><td style=\"text-align: right;\">           79   </td><td style=\"text-align: right;\">             nan</td><td style=\"text-align: right;\">             77.12 </td><td style=\"text-align: right;\">                nan</td><td style=\"text-align: right;\">              nan</td><td style=\"text-align: right;\">           92     </td><td style=\"text-align: right;\">                      nan</td><td style=\"text-align: right;\">         70.678 </td><td style=\"text-align: right;\">              nan</td><td style=\"text-align: right;\">           356000</td></tr>\n",
       "<tr><td style=\"text-align: right;\">  0.99 </td><td style=\"text-align: right;\">              nan</td><td style=\"text-align: right;\">          87    </td><td style=\"text-align: right;\">           91.86</td><td style=\"text-align: right;\">             nan</td><td style=\"text-align: right;\">             83.86 </td><td style=\"text-align: right;\">                nan</td><td style=\"text-align: right;\">              nan</td><td style=\"text-align: right;\">           97     </td><td style=\"text-align: right;\">                      nan</td><td style=\"text-align: right;\">         76.1142</td><td style=\"text-align: right;\">              nan</td><td style=\"text-align: right;\">           629000</td></tr>\n",
       "</tbody>\n",
       "</table>"
      ]
     },
     "metadata": {},
     "output_type": "display_data"
    },
    {
     "data": {
      "text/plain": []
     },
     "execution_count": 34,
     "metadata": {},
     "output_type": "execute_result"
    }
   ],
   "source": [
    "cols_1.quantile()"
   ]
  },
  {
   "cell_type": "code",
   "execution_count": 45,
   "metadata": {},
   "outputs": [],
   "source": [
    "cols_1df=cols_1.as_data_frame()"
   ]
  },
  {
   "cell_type": "code",
   "execution_count": 46,
   "metadata": {},
   "outputs": [],
   "source": [
    "Q1 = cols_1df['hsc_p'].quantile(0.25)"
   ]
  },
  {
   "cell_type": "code",
   "execution_count": 47,
   "metadata": {},
   "outputs": [],
   "source": [
    "Q3 = cols_1df['hsc_p'].quantile(0.75)"
   ]
  },
  {
   "cell_type": "code",
   "execution_count": 48,
   "metadata": {},
   "outputs": [],
   "source": [
    "IQR = Q3 - Q1"
   ]
  },
  {
   "cell_type": "code",
   "execution_count": 49,
   "metadata": {},
   "outputs": [],
   "source": [
    "filter = (cols_1df['hsc_p'] >= Q1 - 1.5 * IQR) & (cols_1df['hsc_p'] <= Q3 + 1.5 *IQR)\n",
    "placement_filtered=cols_1df.loc[filter]"
   ]
  },
  {
   "cell_type": "code",
   "execution_count": 50,
   "metadata": {},
   "outputs": [],
   "source": [
    "from sklearn.preprocessing import LabelEncoder"
   ]
  },
  {
   "cell_type": "code",
   "execution_count": 51,
   "metadata": {},
   "outputs": [],
   "source": [
    "object_cols=['gender','workex','specialisation','status']"
   ]
  },
  {
   "cell_type": "code",
   "execution_count": 52,
   "metadata": {},
   "outputs": [
    {
     "name": "stderr",
     "output_type": "stream",
     "text": [
      "c:\\users\\vishw\\appdata\\local\\programs\\python\\python36\\lib\\site-packages\\ipykernel_launcher.py:3: SettingWithCopyWarning: \n",
      "A value is trying to be set on a copy of a slice from a DataFrame.\n",
      "Try using .loc[row_indexer,col_indexer] = value instead\n",
      "\n",
      "See the caveats in the documentation: http://pandas.pydata.org/pandas-docs/stable/indexing.html#indexing-view-versus-copy\n",
      "  This is separate from the ipykernel package so we can avoid doing imports until\n"
     ]
    },
    {
     "data": {
      "text/html": [
       "<div>\n",
       "<style scoped>\n",
       "    .dataframe tbody tr th:only-of-type {\n",
       "        vertical-align: middle;\n",
       "    }\n",
       "\n",
       "    .dataframe tbody tr th {\n",
       "        vertical-align: top;\n",
       "    }\n",
       "\n",
       "    .dataframe thead th {\n",
       "        text-align: right;\n",
       "    }\n",
       "</style>\n",
       "<table border=\"1\" class=\"dataframe\">\n",
       "  <thead>\n",
       "    <tr style=\"text-align: right;\">\n",
       "      <th></th>\n",
       "      <th>gender</th>\n",
       "      <th>ssc_p</th>\n",
       "      <th>hsc_p</th>\n",
       "      <th>hsc_s</th>\n",
       "      <th>degree_p</th>\n",
       "      <th>degree_t</th>\n",
       "      <th>workex</th>\n",
       "      <th>etest_p</th>\n",
       "      <th>specialisation</th>\n",
       "      <th>mba_p</th>\n",
       "      <th>status</th>\n",
       "      <th>salary</th>\n",
       "    </tr>\n",
       "  </thead>\n",
       "  <tbody>\n",
       "    <tr>\n",
       "      <th>0</th>\n",
       "      <td>1</td>\n",
       "      <td>67.00</td>\n",
       "      <td>91.00</td>\n",
       "      <td>Commerce</td>\n",
       "      <td>58.00</td>\n",
       "      <td>Sci&amp;Tech</td>\n",
       "      <td>0</td>\n",
       "      <td>55.0</td>\n",
       "      <td>1</td>\n",
       "      <td>58.80</td>\n",
       "      <td>1</td>\n",
       "      <td>270000</td>\n",
       "    </tr>\n",
       "    <tr>\n",
       "      <th>1</th>\n",
       "      <td>1</td>\n",
       "      <td>79.33</td>\n",
       "      <td>78.33</td>\n",
       "      <td>Science</td>\n",
       "      <td>77.48</td>\n",
       "      <td>Sci&amp;Tech</td>\n",
       "      <td>1</td>\n",
       "      <td>86.5</td>\n",
       "      <td>0</td>\n",
       "      <td>66.28</td>\n",
       "      <td>1</td>\n",
       "      <td>200000</td>\n",
       "    </tr>\n",
       "    <tr>\n",
       "      <th>2</th>\n",
       "      <td>1</td>\n",
       "      <td>65.00</td>\n",
       "      <td>68.00</td>\n",
       "      <td>Arts</td>\n",
       "      <td>64.00</td>\n",
       "      <td>Comm&amp;Mgmt</td>\n",
       "      <td>0</td>\n",
       "      <td>75.0</td>\n",
       "      <td>0</td>\n",
       "      <td>57.80</td>\n",
       "      <td>1</td>\n",
       "      <td>250000</td>\n",
       "    </tr>\n",
       "    <tr>\n",
       "      <th>3</th>\n",
       "      <td>1</td>\n",
       "      <td>56.00</td>\n",
       "      <td>52.00</td>\n",
       "      <td>Science</td>\n",
       "      <td>52.00</td>\n",
       "      <td>Sci&amp;Tech</td>\n",
       "      <td>0</td>\n",
       "      <td>66.0</td>\n",
       "      <td>1</td>\n",
       "      <td>59.43</td>\n",
       "      <td>0</td>\n",
       "      <td>0</td>\n",
       "    </tr>\n",
       "    <tr>\n",
       "      <th>4</th>\n",
       "      <td>1</td>\n",
       "      <td>85.80</td>\n",
       "      <td>73.60</td>\n",
       "      <td>Commerce</td>\n",
       "      <td>73.30</td>\n",
       "      <td>Comm&amp;Mgmt</td>\n",
       "      <td>0</td>\n",
       "      <td>96.8</td>\n",
       "      <td>0</td>\n",
       "      <td>55.50</td>\n",
       "      <td>1</td>\n",
       "      <td>425000</td>\n",
       "    </tr>\n",
       "  </tbody>\n",
       "</table>\n",
       "</div>"
      ],
      "text/plain": [
       "   gender  ssc_p  hsc_p     hsc_s  degree_p   degree_t  workex  etest_p  \\\n",
       "0       1  67.00  91.00  Commerce     58.00   Sci&Tech       0     55.0   \n",
       "1       1  79.33  78.33   Science     77.48   Sci&Tech       1     86.5   \n",
       "2       1  65.00  68.00      Arts     64.00  Comm&Mgmt       0     75.0   \n",
       "3       1  56.00  52.00   Science     52.00   Sci&Tech       0     66.0   \n",
       "4       1  85.80  73.60  Commerce     73.30  Comm&Mgmt       0     96.8   \n",
       "\n",
       "   specialisation  mba_p  status  salary  \n",
       "0               1  58.80       1  270000  \n",
       "1               0  66.28       1  200000  \n",
       "2               0  57.80       1  250000  \n",
       "3               1  59.43       0       0  \n",
       "4               0  55.50       1  425000  "
      ]
     },
     "execution_count": 52,
     "metadata": {},
     "output_type": "execute_result"
    }
   ],
   "source": [
    "label_encoder = LabelEncoder()\n",
    "for col in object_cols:\n",
    "    placement_filtered[col] = label_encoder.fit_transform(placement_filtered[col])\n",
    "placement_filtered.head()"
   ]
  },
  {
   "cell_type": "code",
   "execution_count": 53,
   "metadata": {},
   "outputs": [
    {
     "data": {
      "text/html": [
       "<div>\n",
       "<style scoped>\n",
       "    .dataframe tbody tr th:only-of-type {\n",
       "        vertical-align: middle;\n",
       "    }\n",
       "\n",
       "    .dataframe tbody tr th {\n",
       "        vertical-align: top;\n",
       "    }\n",
       "\n",
       "    .dataframe thead th {\n",
       "        text-align: right;\n",
       "    }\n",
       "</style>\n",
       "<table border=\"1\" class=\"dataframe\">\n",
       "  <thead>\n",
       "    <tr style=\"text-align: right;\">\n",
       "      <th></th>\n",
       "      <th>gender</th>\n",
       "      <th>ssc_p</th>\n",
       "      <th>hsc_p</th>\n",
       "      <th>degree_p</th>\n",
       "      <th>workex</th>\n",
       "      <th>etest_p</th>\n",
       "      <th>specialisation</th>\n",
       "      <th>mba_p</th>\n",
       "      <th>status</th>\n",
       "      <th>dummy_Arts</th>\n",
       "      <th>dummy_Commerce</th>\n",
       "      <th>dummy_Science</th>\n",
       "      <th>dummy_Comm&amp;Mgmt</th>\n",
       "      <th>dummy_Others</th>\n",
       "      <th>dummy_Sci&amp;Tech</th>\n",
       "    </tr>\n",
       "  </thead>\n",
       "  <tbody>\n",
       "    <tr>\n",
       "      <th>0</th>\n",
       "      <td>1</td>\n",
       "      <td>67.00</td>\n",
       "      <td>91.00</td>\n",
       "      <td>58.00</td>\n",
       "      <td>0</td>\n",
       "      <td>55.0</td>\n",
       "      <td>1</td>\n",
       "      <td>58.80</td>\n",
       "      <td>1</td>\n",
       "      <td>0</td>\n",
       "      <td>1</td>\n",
       "      <td>0</td>\n",
       "      <td>0</td>\n",
       "      <td>0</td>\n",
       "      <td>1</td>\n",
       "    </tr>\n",
       "    <tr>\n",
       "      <th>1</th>\n",
       "      <td>1</td>\n",
       "      <td>79.33</td>\n",
       "      <td>78.33</td>\n",
       "      <td>77.48</td>\n",
       "      <td>1</td>\n",
       "      <td>86.5</td>\n",
       "      <td>0</td>\n",
       "      <td>66.28</td>\n",
       "      <td>1</td>\n",
       "      <td>0</td>\n",
       "      <td>0</td>\n",
       "      <td>1</td>\n",
       "      <td>0</td>\n",
       "      <td>0</td>\n",
       "      <td>1</td>\n",
       "    </tr>\n",
       "    <tr>\n",
       "      <th>2</th>\n",
       "      <td>1</td>\n",
       "      <td>65.00</td>\n",
       "      <td>68.00</td>\n",
       "      <td>64.00</td>\n",
       "      <td>0</td>\n",
       "      <td>75.0</td>\n",
       "      <td>0</td>\n",
       "      <td>57.80</td>\n",
       "      <td>1</td>\n",
       "      <td>1</td>\n",
       "      <td>0</td>\n",
       "      <td>0</td>\n",
       "      <td>1</td>\n",
       "      <td>0</td>\n",
       "      <td>0</td>\n",
       "    </tr>\n",
       "    <tr>\n",
       "      <th>3</th>\n",
       "      <td>1</td>\n",
       "      <td>56.00</td>\n",
       "      <td>52.00</td>\n",
       "      <td>52.00</td>\n",
       "      <td>0</td>\n",
       "      <td>66.0</td>\n",
       "      <td>1</td>\n",
       "      <td>59.43</td>\n",
       "      <td>0</td>\n",
       "      <td>0</td>\n",
       "      <td>0</td>\n",
       "      <td>1</td>\n",
       "      <td>0</td>\n",
       "      <td>0</td>\n",
       "      <td>1</td>\n",
       "    </tr>\n",
       "    <tr>\n",
       "      <th>4</th>\n",
       "      <td>1</td>\n",
       "      <td>85.80</td>\n",
       "      <td>73.60</td>\n",
       "      <td>73.30</td>\n",
       "      <td>0</td>\n",
       "      <td>96.8</td>\n",
       "      <td>0</td>\n",
       "      <td>55.50</td>\n",
       "      <td>1</td>\n",
       "      <td>0</td>\n",
       "      <td>1</td>\n",
       "      <td>0</td>\n",
       "      <td>1</td>\n",
       "      <td>0</td>\n",
       "      <td>0</td>\n",
       "    </tr>\n",
       "  </tbody>\n",
       "</table>\n",
       "</div>"
      ],
      "text/plain": [
       "   gender  ssc_p  hsc_p  degree_p  workex  etest_p  specialisation  mba_p  \\\n",
       "0       1  67.00  91.00     58.00       0     55.0               1  58.80   \n",
       "1       1  79.33  78.33     77.48       1     86.5               0  66.28   \n",
       "2       1  65.00  68.00     64.00       0     75.0               0  57.80   \n",
       "3       1  56.00  52.00     52.00       0     66.0               1  59.43   \n",
       "4       1  85.80  73.60     73.30       0     96.8               0  55.50   \n",
       "\n",
       "   status  dummy_Arts  dummy_Commerce  dummy_Science  dummy_Comm&Mgmt  \\\n",
       "0       1           0               1              0                0   \n",
       "1       1           0               0              1                0   \n",
       "2       1           1               0              0                1   \n",
       "3       0           0               0              1                0   \n",
       "4       1           0               1              0                1   \n",
       "\n",
       "   dummy_Others  dummy_Sci&Tech  \n",
       "0             0               1  \n",
       "1             0               1  \n",
       "2             0               0  \n",
       "3             0               1  \n",
       "4             0               0  "
      ]
     },
     "execution_count": 53,
     "metadata": {},
     "output_type": "execute_result"
    }
   ],
   "source": [
    "dummy_hsc_s=pd.get_dummies(placement_filtered['hsc_s'], prefix='dummy')\n",
    "dummy_degree_t=pd.get_dummies(placement_filtered['degree_t'], prefix='dummy')\n",
    "placement_coded = pd.concat([placement_filtered,dummy_hsc_s,dummy_degree_t],axis=1)\n",
    "placement_coded.drop(['hsc_s','degree_t','salary'],axis=1, inplace=True)\n",
    "placement_coded.head()"
   ]
  },
  {
   "cell_type": "code",
   "execution_count": 54,
   "metadata": {},
   "outputs": [
    {
     "name": "stdout",
     "output_type": "stream",
     "text": [
      "Parse progress: |█████████████████████████████████████████████████████████| 100%\n"
     ]
    }
   ],
   "source": [
    "placement_h2o  = h2o.H2OFrame(placement_coded)"
   ]
  },
  {
   "cell_type": "code",
   "execution_count": 55,
   "metadata": {},
   "outputs": [
    {
     "data": {
      "text/html": [
       "<table>\n",
       "<thead>\n",
       "<tr><th style=\"text-align: right;\">  gender</th><th style=\"text-align: right;\">  ssc_p</th><th style=\"text-align: right;\">  hsc_p</th><th style=\"text-align: right;\">  degree_p</th><th style=\"text-align: right;\">  workex</th><th style=\"text-align: right;\">  etest_p</th><th style=\"text-align: right;\">  specialisation</th><th style=\"text-align: right;\">  mba_p</th><th style=\"text-align: right;\">  status</th><th style=\"text-align: right;\">  dummy_Arts</th><th style=\"text-align: right;\">  dummy_Commerce</th><th style=\"text-align: right;\">  dummy_Science</th><th style=\"text-align: right;\">  dummy_Comm&amp;Mgmt</th><th style=\"text-align: right;\">  dummy_Others</th><th style=\"text-align: right;\">  dummy_Sci&amp;Tech</th></tr>\n",
       "</thead>\n",
       "<tbody>\n",
       "<tr><td style=\"text-align: right;\">       1</td><td style=\"text-align: right;\">  67   </td><td style=\"text-align: right;\">  91   </td><td style=\"text-align: right;\">     58   </td><td style=\"text-align: right;\">       0</td><td style=\"text-align: right;\">    55   </td><td style=\"text-align: right;\">               1</td><td style=\"text-align: right;\">  58.8 </td><td style=\"text-align: right;\">       1</td><td style=\"text-align: right;\">           0</td><td style=\"text-align: right;\">               1</td><td style=\"text-align: right;\">              0</td><td style=\"text-align: right;\">                0</td><td style=\"text-align: right;\">             0</td><td style=\"text-align: right;\">               1</td></tr>\n",
       "<tr><td style=\"text-align: right;\">       1</td><td style=\"text-align: right;\">  79.33</td><td style=\"text-align: right;\">  78.33</td><td style=\"text-align: right;\">     77.48</td><td style=\"text-align: right;\">       1</td><td style=\"text-align: right;\">    86.5 </td><td style=\"text-align: right;\">               0</td><td style=\"text-align: right;\">  66.28</td><td style=\"text-align: right;\">       1</td><td style=\"text-align: right;\">           0</td><td style=\"text-align: right;\">               0</td><td style=\"text-align: right;\">              1</td><td style=\"text-align: right;\">                0</td><td style=\"text-align: right;\">             0</td><td style=\"text-align: right;\">               1</td></tr>\n",
       "<tr><td style=\"text-align: right;\">       1</td><td style=\"text-align: right;\">  65   </td><td style=\"text-align: right;\">  68   </td><td style=\"text-align: right;\">     64   </td><td style=\"text-align: right;\">       0</td><td style=\"text-align: right;\">    75   </td><td style=\"text-align: right;\">               0</td><td style=\"text-align: right;\">  57.8 </td><td style=\"text-align: right;\">       1</td><td style=\"text-align: right;\">           1</td><td style=\"text-align: right;\">               0</td><td style=\"text-align: right;\">              0</td><td style=\"text-align: right;\">                1</td><td style=\"text-align: right;\">             0</td><td style=\"text-align: right;\">               0</td></tr>\n",
       "<tr><td style=\"text-align: right;\">       1</td><td style=\"text-align: right;\">  56   </td><td style=\"text-align: right;\">  52   </td><td style=\"text-align: right;\">     52   </td><td style=\"text-align: right;\">       0</td><td style=\"text-align: right;\">    66   </td><td style=\"text-align: right;\">               1</td><td style=\"text-align: right;\">  59.43</td><td style=\"text-align: right;\">       0</td><td style=\"text-align: right;\">           0</td><td style=\"text-align: right;\">               0</td><td style=\"text-align: right;\">              1</td><td style=\"text-align: right;\">                0</td><td style=\"text-align: right;\">             0</td><td style=\"text-align: right;\">               1</td></tr>\n",
       "<tr><td style=\"text-align: right;\">       1</td><td style=\"text-align: right;\">  85.8 </td><td style=\"text-align: right;\">  73.6 </td><td style=\"text-align: right;\">     73.3 </td><td style=\"text-align: right;\">       0</td><td style=\"text-align: right;\">    96.8 </td><td style=\"text-align: right;\">               0</td><td style=\"text-align: right;\">  55.5 </td><td style=\"text-align: right;\">       1</td><td style=\"text-align: right;\">           0</td><td style=\"text-align: right;\">               1</td><td style=\"text-align: right;\">              0</td><td style=\"text-align: right;\">                1</td><td style=\"text-align: right;\">             0</td><td style=\"text-align: right;\">               0</td></tr>\n",
       "<tr><td style=\"text-align: right;\">       1</td><td style=\"text-align: right;\">  55   </td><td style=\"text-align: right;\">  49.8 </td><td style=\"text-align: right;\">     67.25</td><td style=\"text-align: right;\">       1</td><td style=\"text-align: right;\">    55   </td><td style=\"text-align: right;\">               0</td><td style=\"text-align: right;\">  51.58</td><td style=\"text-align: right;\">       0</td><td style=\"text-align: right;\">           0</td><td style=\"text-align: right;\">               0</td><td style=\"text-align: right;\">              1</td><td style=\"text-align: right;\">                0</td><td style=\"text-align: right;\">             0</td><td style=\"text-align: right;\">               1</td></tr>\n",
       "<tr><td style=\"text-align: right;\">       0</td><td style=\"text-align: right;\">  46   </td><td style=\"text-align: right;\">  49.2 </td><td style=\"text-align: right;\">     79   </td><td style=\"text-align: right;\">       0</td><td style=\"text-align: right;\">    74.28</td><td style=\"text-align: right;\">               0</td><td style=\"text-align: right;\">  53.29</td><td style=\"text-align: right;\">       0</td><td style=\"text-align: right;\">           0</td><td style=\"text-align: right;\">               1</td><td style=\"text-align: right;\">              0</td><td style=\"text-align: right;\">                1</td><td style=\"text-align: right;\">             0</td><td style=\"text-align: right;\">               0</td></tr>\n",
       "<tr><td style=\"text-align: right;\">       1</td><td style=\"text-align: right;\">  82   </td><td style=\"text-align: right;\">  64   </td><td style=\"text-align: right;\">     66   </td><td style=\"text-align: right;\">       1</td><td style=\"text-align: right;\">    67   </td><td style=\"text-align: right;\">               0</td><td style=\"text-align: right;\">  62.14</td><td style=\"text-align: right;\">       1</td><td style=\"text-align: right;\">           0</td><td style=\"text-align: right;\">               0</td><td style=\"text-align: right;\">              1</td><td style=\"text-align: right;\">                0</td><td style=\"text-align: right;\">             0</td><td style=\"text-align: right;\">               1</td></tr>\n",
       "<tr><td style=\"text-align: right;\">       1</td><td style=\"text-align: right;\">  73   </td><td style=\"text-align: right;\">  79   </td><td style=\"text-align: right;\">     72   </td><td style=\"text-align: right;\">       0</td><td style=\"text-align: right;\">    91.34</td><td style=\"text-align: right;\">               0</td><td style=\"text-align: right;\">  61.29</td><td style=\"text-align: right;\">       1</td><td style=\"text-align: right;\">           0</td><td style=\"text-align: right;\">               1</td><td style=\"text-align: right;\">              0</td><td style=\"text-align: right;\">                1</td><td style=\"text-align: right;\">             0</td><td style=\"text-align: right;\">               0</td></tr>\n",
       "<tr><td style=\"text-align: right;\">       1</td><td style=\"text-align: right;\">  58   </td><td style=\"text-align: right;\">  70   </td><td style=\"text-align: right;\">     61   </td><td style=\"text-align: right;\">       0</td><td style=\"text-align: right;\">    54   </td><td style=\"text-align: right;\">               0</td><td style=\"text-align: right;\">  52.21</td><td style=\"text-align: right;\">       0</td><td style=\"text-align: right;\">           0</td><td style=\"text-align: right;\">               1</td><td style=\"text-align: right;\">              0</td><td style=\"text-align: right;\">                1</td><td style=\"text-align: right;\">             0</td><td style=\"text-align: right;\">               0</td></tr>\n",
       "</tbody>\n",
       "</table>"
      ]
     },
     "metadata": {},
     "output_type": "display_data"
    },
    {
     "data": {
      "text/plain": []
     },
     "execution_count": 55,
     "metadata": {},
     "output_type": "execute_result"
    }
   ],
   "source": [
    "placement_h2o"
   ]
  },
  {
   "cell_type": "code",
   "execution_count": 56,
   "metadata": {},
   "outputs": [],
   "source": [
    "x = placement_h2o.columns"
   ]
  },
  {
   "cell_type": "code",
   "execution_count": 57,
   "metadata": {},
   "outputs": [],
   "source": [
    "y=\"status\""
   ]
  },
  {
   "cell_type": "code",
   "execution_count": 58,
   "metadata": {},
   "outputs": [],
   "source": [
    "x.remove(y)"
   ]
  },
  {
   "cell_type": "code",
   "execution_count": 59,
   "metadata": {},
   "outputs": [
    {
     "data": {
      "text/plain": [
       "['gender',\n",
       " 'ssc_p',\n",
       " 'hsc_p',\n",
       " 'degree_p',\n",
       " 'workex',\n",
       " 'etest_p',\n",
       " 'specialisation',\n",
       " 'mba_p',\n",
       " 'dummy_Arts',\n",
       " 'dummy_Commerce',\n",
       " 'dummy_Science',\n",
       " 'dummy_Comm&Mgmt',\n",
       " 'dummy_Others',\n",
       " 'dummy_Sci&Tech']"
      ]
     },
     "execution_count": 59,
     "metadata": {},
     "output_type": "execute_result"
    }
   ],
   "source": [
    "x"
   ]
  },
  {
   "cell_type": "code",
   "execution_count": 60,
   "metadata": {},
   "outputs": [],
   "source": [
    "train,test,valid=placement_h2o.split_frame(ratios=[.7,.15])"
   ]
  },
  {
   "cell_type": "code",
   "execution_count": 62,
   "metadata": {},
   "outputs": [],
   "source": [
    "from h2o.automl import H2OAutoML"
   ]
  },
  {
   "cell_type": "code",
   "execution_count": 63,
   "metadata": {},
   "outputs": [],
   "source": [
    "aml = H2OAutoML(max_models = 15, seed = 10, verbosity=\"info\")"
   ]
  },
  {
   "cell_type": "code",
   "execution_count": 64,
   "metadata": {},
   "outputs": [
    {
     "name": "stdout",
     "output_type": "stream",
     "text": [
      "AutoML progress: |\n",
      "17:50:59.291: Project: AutoML_20200616_175059286\n",
      "17:50:59.292: User specified a validation frame with cross-validation still enabled. Please note that the models will still be validated using cross-validation only, the validation frame will be used to provide purely informative validation metrics on the trained models.\n",
      "17:50:59.292: Setting stopping tolerance adaptively based on the training frame: 0.05\n",
      "17:50:59.292: Build control seed: 10\n",
      "17:50:59.293: training frame: Frame key: automl_training_py_19_sid_b124    cols: 15    rows: 138  chunks: 1    size: 2680  checksum: 6144614304681947773\n",
      "17:50:59.293: validation frame: Frame key: py_21_sid_b124    cols: 15    rows: 33  chunks: 1    size: 1508  checksum: 3301363484730552264\n",
      "17:50:59.293: leaderboard frame: NULL\n",
      "17:50:59.293: blending frame: NULL\n",
      "17:50:59.293: response column: status\n",
      "17:50:59.293: fold column: null\n",
      "17:50:59.293: weights column: null\n",
      "17:50:59.314: AutoML: XGBoost is not available; skipping it.\n",
      "17:50:59.327: Loading execution steps: [{XGBoost : defaults}, {GLM : defaults}, {DRF : [def_1]}, {GBM : defaults}, {DeepLearning : defaults}, {DRF : [XRT]}, {XGBoost : grids}, {GBM : grids}, {DeepLearning : grids}, {GBM : [lr_annealing]}, {XGBoost : [lr_search]}, {StackedEnsemble : defaults}]\n",
      "17:50:59.337: Disabling Algo: XGBoost as requested by the user.\n",
      "17:50:59.340: AutoML job created: 2020.06.16 17:50:59.286\n",
      "17:50:59.341: AutoML build started: 2020.06.16 17:50:59.340\n",
      "17:50:59.345: AutoML: starting GLM_1_AutoML_20200616_175059 model training\n",
      "\n",
      "\n",
      "17:51:00.369: New leader: GLM_1_AutoML_20200616_175059, mean_residual_deviance: 0.11713112452268534\n",
      "17:51:00.372: AutoML: starting DRF_1_AutoML_20200616_175059 model training\n",
      "\n",
      "█\n",
      "17:51:01.374: New leader: DRF_1_AutoML_20200616_175059, mean_residual_deviance: 0.1122376648670986\n",
      "17:51:01.375: AutoML: starting GBM_1_AutoML_20200616_175059 model training\n",
      "\n",
      "█\n",
      "17:51:02.377: AutoML: starting GBM_2_AutoML_20200616_175059 model training\n",
      "\n",
      "█\n",
      "17:51:03.379: New leader: GBM_2_AutoML_20200616_175059, mean_residual_deviance: 0.10802871204919315\n",
      "17:51:03.380: AutoML: starting GBM_3_AutoML_20200616_175059 model training\n",
      "\n",
      "████\n",
      "17:51:04.381: AutoML: starting GBM_4_AutoML_20200616_175059 model training\n",
      "17:51:05.383: New leader: GBM_4_AutoML_20200616_175059, mean_residual_deviance: 0.10792320856535444\n",
      "17:51:05.384: AutoML: starting GBM_5_AutoML_20200616_175059 model training\n",
      "17:51:05.384: Skipping training of model GBM_5_AutoML_20200616_175059 due to exception: water.exceptions.H2OModelBuilderIllegalArgumentException: Illegal argument(s) for GBM model: GBM_5_AutoML_20200616_175059.  Details: ERRR on field: _min_rows: The dataset size is too small to split for min_rows=100.0: must have at least 200.0 (weighted) rows, but have only 138.0.\n",
      "\n",
      "17:51:05.390: AutoML: starting DeepLearning_1_AutoML_20200616_175059 model training\n",
      "\n",
      "███\n",
      "17:51:06.394: AutoML: starting XRT_1_AutoML_20200616_175059 model training\n",
      "\n",
      "█████\n",
      "17:51:07.396: New leader: XRT_1_AutoML_20200616_175059, mean_residual_deviance: 0.1078093604347811\n",
      "17:51:07.398: AutoML: starting GBM_grid__1_AutoML_20200616_175059 hyperparameter search\n",
      "\n",
      "██████████\n",
      "17:51:09.460: AutoML: starting DeepLearning_grid__1_AutoML_20200616_175059 hyperparameter search\n",
      "\n",
      "███████████████████\n",
      "17:51:26.681: New leader: DeepLearning_grid__1_AutoML_20200616_175059_model_1, mean_residual_deviance: 0.10188137158495165\n",
      "\n",
      "█████\n",
      "17:52:13.700: AutoML: starting DeepLearning_grid__2_AutoML_20200616_175059 hyperparameter search\n",
      "\n",
      "██\n",
      "17:53:06.632: AutoML: starting DeepLearning_grid__3_AutoML_20200616_175059 hyperparameter search\n",
      "\n",
      "██\n",
      "17:54:22.668: AutoML: starting StackedEnsemble_BestOfFamily_AutoML_20200616_175059 model training\n",
      "17:54:23.671: New leader: StackedEnsemble_BestOfFamily_AutoML_20200616_175059, mean_residual_deviance: 0.09932418953293545\n",
      "17:54:23.671: AutoML: starting StackedEnsemble_AllModels_AutoML_20200616_175059 model training\n",
      "17:54:24.674: New leader: StackedEnsemble_AllModels_AutoML_20200616_175059, mean_residual_deviance: 0.09714431393458814\n",
      "17:54:24.674: Actual modeling steps: [{GLM : [def_1 (10)]}, {DRF : [def_1 (10)]}, {GBM : [def_1 (10), def_2 (10), def_3 (10), def_4 (10)]}, {DeepLearning : [def_1 (10)]}, {DRF : [XRT (10)]}, {GBM : [grid_1 (60)]}, {DeepLearning : [grid_1 (20), grid_2 (20), grid_3 (20)]}, {StackedEnsemble : [best (10), all (10)]}]\n",
      "17:54:24.675: AutoML build stopped: 2020.06.16 17:54:24.674\n",
      "17:54:24.675: AutoML build done: built 17 models\n",
      "17:54:24.675: AutoML duration:  3 min 25.334 sec\n",
      "\n",
      "███| 100%\n"
     ]
    }
   ],
   "source": [
    "aml.train(x = x, y = y, training_frame = train, validation_frame=valid)"
   ]
  },
  {
   "cell_type": "code",
   "execution_count": 65,
   "metadata": {},
   "outputs": [],
   "source": [
    "lb = aml.leaderboard"
   ]
  },
  {
   "cell_type": "code",
   "execution_count": 66,
   "metadata": {},
   "outputs": [
    {
     "data": {
      "text/html": [
       "<table>\n",
       "<thead>\n",
       "<tr><th>model_id                                           </th><th style=\"text-align: right;\">  mean_residual_deviance</th><th style=\"text-align: right;\">    rmse</th><th style=\"text-align: right;\">      mse</th><th style=\"text-align: right;\">     mae</th><th style=\"text-align: right;\">   rmsle</th></tr>\n",
       "</thead>\n",
       "<tbody>\n",
       "<tr><td>StackedEnsemble_AllModels_AutoML_20200616_175059   </td><td style=\"text-align: right;\">               0.0971443</td><td style=\"text-align: right;\">0.31168 </td><td style=\"text-align: right;\">0.0971443</td><td style=\"text-align: right;\">0.215862</td><td style=\"text-align: right;\">0.221231</td></tr>\n",
       "<tr><td>StackedEnsemble_BestOfFamily_AutoML_20200616_175059</td><td style=\"text-align: right;\">               0.0993242</td><td style=\"text-align: right;\">0.315157</td><td style=\"text-align: right;\">0.0993242</td><td style=\"text-align: right;\">0.233576</td><td style=\"text-align: right;\">0.220889</td></tr>\n",
       "<tr><td>DeepLearning_grid__1_AutoML_20200616_175059_model_1</td><td style=\"text-align: right;\">               0.101881 </td><td style=\"text-align: right;\">0.319189</td><td style=\"text-align: right;\">0.101881 </td><td style=\"text-align: right;\">0.24414 </td><td style=\"text-align: right;\">0.223296</td></tr>\n",
       "<tr><td>DeepLearning_grid__3_AutoML_20200616_175059_model_1</td><td style=\"text-align: right;\">               0.102427 </td><td style=\"text-align: right;\">0.320043</td><td style=\"text-align: right;\">0.102427 </td><td style=\"text-align: right;\">0.208911</td><td style=\"text-align: right;\">0.239635</td></tr>\n",
       "<tr><td>DeepLearning_grid__2_AutoML_20200616_175059_model_1</td><td style=\"text-align: right;\">               0.104164 </td><td style=\"text-align: right;\">0.322745</td><td style=\"text-align: right;\">0.104164 </td><td style=\"text-align: right;\">0.211227</td><td style=\"text-align: right;\">0.230362</td></tr>\n",
       "<tr><td>XRT_1_AutoML_20200616_175059                       </td><td style=\"text-align: right;\">               0.107809 </td><td style=\"text-align: right;\">0.328343</td><td style=\"text-align: right;\">0.107809 </td><td style=\"text-align: right;\">0.235811</td><td style=\"text-align: right;\">0.230493</td></tr>\n",
       "<tr><td>GBM_4_AutoML_20200616_175059                       </td><td style=\"text-align: right;\">               0.107923 </td><td style=\"text-align: right;\">0.328517</td><td style=\"text-align: right;\">0.107923 </td><td style=\"text-align: right;\">0.228591</td><td style=\"text-align: right;\">0.229803</td></tr>\n",
       "<tr><td>GBM_2_AutoML_20200616_175059                       </td><td style=\"text-align: right;\">               0.108029 </td><td style=\"text-align: right;\">0.328677</td><td style=\"text-align: right;\">0.108029 </td><td style=\"text-align: right;\">0.224755</td><td style=\"text-align: right;\">0.230846</td></tr>\n",
       "<tr><td>GBM_3_AutoML_20200616_175059                       </td><td style=\"text-align: right;\">               0.109926 </td><td style=\"text-align: right;\">0.331551</td><td style=\"text-align: right;\">0.109926 </td><td style=\"text-align: right;\">0.235078</td><td style=\"text-align: right;\">0.232938</td></tr>\n",
       "<tr><td>DRF_1_AutoML_20200616_175059                       </td><td style=\"text-align: right;\">               0.112238 </td><td style=\"text-align: right;\">0.335019</td><td style=\"text-align: right;\">0.112238 </td><td style=\"text-align: right;\">0.243426</td><td style=\"text-align: right;\">0.236734</td></tr>\n",
       "</tbody>\n",
       "</table>"
      ]
     },
     "metadata": {},
     "output_type": "display_data"
    },
    {
     "data": {
      "text/plain": []
     },
     "execution_count": 66,
     "metadata": {},
     "output_type": "execute_result"
    }
   ],
   "source": [
    "lb.head()"
   ]
  },
  {
   "cell_type": "code",
   "execution_count": 67,
   "metadata": {},
   "outputs": [
    {
     "name": "stdout",
     "output_type": "stream",
     "text": [
      "stackedensemble prediction progress: |████████████████████████████████████| 100%\n"
     ]
    }
   ],
   "source": [
    "churn_pred=aml.leader.predict(test)"
   ]
  },
  {
   "cell_type": "code",
   "execution_count": 68,
   "metadata": {},
   "outputs": [
    {
     "data": {
      "text/html": [
       "<table>\n",
       "<thead>\n",
       "<tr><th style=\"text-align: right;\">   predict</th></tr>\n",
       "</thead>\n",
       "<tbody>\n",
       "<tr><td style=\"text-align: right;\"> 0.847201 </td></tr>\n",
       "<tr><td style=\"text-align: right;\"> 1.03112  </td></tr>\n",
       "<tr><td style=\"text-align: right;\"> 0.689401 </td></tr>\n",
       "<tr><td style=\"text-align: right;\"> 1.05154  </td></tr>\n",
       "<tr><td style=\"text-align: right;\"> 1.05119  </td></tr>\n",
       "<tr><td style=\"text-align: right;\"> 0.934443 </td></tr>\n",
       "<tr><td style=\"text-align: right;\"> 0.954035 </td></tr>\n",
       "<tr><td style=\"text-align: right;\">-0.0143108</td></tr>\n",
       "<tr><td style=\"text-align: right;\"> 0.0382541</td></tr>\n",
       "<tr><td style=\"text-align: right;\"> 1.01515  </td></tr>\n",
       "</tbody>\n",
       "</table>"
      ]
     },
     "metadata": {},
     "output_type": "display_data"
    },
    {
     "data": {
      "text/plain": []
     },
     "execution_count": 68,
     "metadata": {},
     "output_type": "execute_result"
    }
   ],
   "source": [
    "churn_pred.head()"
   ]
  },
  {
   "cell_type": "code",
   "execution_count": 70,
   "metadata": {},
   "outputs": [
    {
     "name": "stdout",
     "output_type": "stream",
     "text": [
      "\n",
      "ModelMetricsRegressionGLM: stackedensemble\n",
      "** Reported on test data. **\n",
      "\n",
      "MSE: 0.15687201974356335\n",
      "RMSE: 0.39607072568363766\n",
      "MAE: 0.21990360559365485\n",
      "RMSLE: 0.27238878427135677\n",
      "R^2: 0.2607049542266979\n",
      "Mean Residual Deviance: 0.15687201974356335\n",
      "Null degrees of freedom: 35\n",
      "Residual degrees of freedom: 28\n",
      "Null deviance: 7.64524259609326\n",
      "Residual deviance: 5.647392710768281\n",
      "AIC: 53.47987558135945\n"
     ]
    },
    {
     "data": {
      "text/plain": []
     },
     "execution_count": 70,
     "metadata": {},
     "output_type": "execute_result"
    }
   ],
   "source": [
    "aml.leader.model_performance(test)"
   ]
  },
  {
   "cell_type": "code",
   "execution_count": 71,
   "metadata": {},
   "outputs": [
    {
     "data": {
      "text/html": [
       "<table>\n",
       "<thead>\n",
       "<tr><th>model_id                                           </th><th style=\"text-align: right;\">  mean_residual_deviance</th><th style=\"text-align: right;\">    rmse</th><th style=\"text-align: right;\">      mse</th><th style=\"text-align: right;\">     mae</th><th style=\"text-align: right;\">   rmsle</th><th style=\"text-align: right;\">  training_time_ms</th><th style=\"text-align: right;\">  predict_time_per_row_ms</th></tr>\n",
       "</thead>\n",
       "<tbody>\n",
       "<tr><td>StackedEnsemble_AllModels_AutoML_20200616_175059   </td><td style=\"text-align: right;\">               0.0971443</td><td style=\"text-align: right;\">0.31168 </td><td style=\"text-align: right;\">0.0971443</td><td style=\"text-align: right;\">0.215862</td><td style=\"text-align: right;\">0.221231</td><td style=\"text-align: right;\">               174</td><td style=\"text-align: right;\">                 0.353497</td></tr>\n",
       "<tr><td>StackedEnsemble_BestOfFamily_AutoML_20200616_175059</td><td style=\"text-align: right;\">               0.0993242</td><td style=\"text-align: right;\">0.315157</td><td style=\"text-align: right;\">0.0993242</td><td style=\"text-align: right;\">0.233576</td><td style=\"text-align: right;\">0.220889</td><td style=\"text-align: right;\">               220</td><td style=\"text-align: right;\">                 0.052276</td></tr>\n",
       "<tr><td>DeepLearning_grid__1_AutoML_20200616_175059_model_1</td><td style=\"text-align: right;\">               0.101881 </td><td style=\"text-align: right;\">0.319189</td><td style=\"text-align: right;\">0.101881 </td><td style=\"text-align: right;\">0.24414 </td><td style=\"text-align: right;\">0.223296</td><td style=\"text-align: right;\">              4224</td><td style=\"text-align: right;\">                 0.00626 </td></tr>\n",
       "<tr><td>DeepLearning_grid__3_AutoML_20200616_175059_model_1</td><td style=\"text-align: right;\">               0.102427 </td><td style=\"text-align: right;\">0.320043</td><td style=\"text-align: right;\">0.102427 </td><td style=\"text-align: right;\">0.208911</td><td style=\"text-align: right;\">0.239635</td><td style=\"text-align: right;\">             16312</td><td style=\"text-align: right;\">                 0.159737</td></tr>\n",
       "<tr><td>DeepLearning_grid__2_AutoML_20200616_175059_model_1</td><td style=\"text-align: right;\">               0.104164 </td><td style=\"text-align: right;\">0.322745</td><td style=\"text-align: right;\">0.104164 </td><td style=\"text-align: right;\">0.211227</td><td style=\"text-align: right;\">0.230362</td><td style=\"text-align: right;\">             11511</td><td style=\"text-align: right;\">                 0.086313</td></tr>\n",
       "<tr><td>XRT_1_AutoML_20200616_175059                       </td><td style=\"text-align: right;\">               0.107809 </td><td style=\"text-align: right;\">0.328343</td><td style=\"text-align: right;\">0.107809 </td><td style=\"text-align: right;\">0.235811</td><td style=\"text-align: right;\">0.230493</td><td style=\"text-align: right;\">               152</td><td style=\"text-align: right;\">                 0.009781</td></tr>\n",
       "<tr><td>GBM_4_AutoML_20200616_175059                       </td><td style=\"text-align: right;\">               0.107923 </td><td style=\"text-align: right;\">0.328517</td><td style=\"text-align: right;\">0.107923 </td><td style=\"text-align: right;\">0.228591</td><td style=\"text-align: right;\">0.229803</td><td style=\"text-align: right;\">                85</td><td style=\"text-align: right;\">                 0.009469</td></tr>\n",
       "<tr><td>GBM_2_AutoML_20200616_175059                       </td><td style=\"text-align: right;\">               0.108029 </td><td style=\"text-align: right;\">0.328677</td><td style=\"text-align: right;\">0.108029 </td><td style=\"text-align: right;\">0.224755</td><td style=\"text-align: right;\">0.230846</td><td style=\"text-align: right;\">               120</td><td style=\"text-align: right;\">                 0.011307</td></tr>\n",
       "<tr><td>GBM_3_AutoML_20200616_175059                       </td><td style=\"text-align: right;\">               0.109926 </td><td style=\"text-align: right;\">0.331551</td><td style=\"text-align: right;\">0.109926 </td><td style=\"text-align: right;\">0.235078</td><td style=\"text-align: right;\">0.232938</td><td style=\"text-align: right;\">                86</td><td style=\"text-align: right;\">                 0.009834</td></tr>\n",
       "<tr><td>DRF_1_AutoML_20200616_175059                       </td><td style=\"text-align: right;\">               0.112238 </td><td style=\"text-align: right;\">0.335019</td><td style=\"text-align: right;\">0.112238 </td><td style=\"text-align: right;\">0.243426</td><td style=\"text-align: right;\">0.236734</td><td style=\"text-align: right;\">                93</td><td style=\"text-align: right;\">                 0.013093</td></tr>\n",
       "</tbody>\n",
       "</table>"
      ]
     },
     "metadata": {},
     "output_type": "display_data"
    },
    {
     "data": {
      "text/plain": []
     },
     "execution_count": 71,
     "metadata": {},
     "output_type": "execute_result"
    }
   ],
   "source": [
    "lb1 = h2o.automl.get_leaderboard(aml, extra_columns = 'ALL')\n",
    "lb1"
   ]
  },
  {
   "cell_type": "code",
   "execution_count": null,
   "metadata": {},
   "outputs": [],
   "source": []
  }
 ],
 "metadata": {
  "kernelspec": {
   "display_name": "Python 3",
   "language": "python",
   "name": "python3"
  },
  "language_info": {
   "codemirror_mode": {
    "name": "ipython",
    "version": 3
   },
   "file_extension": ".py",
   "mimetype": "text/x-python",
   "name": "python",
   "nbconvert_exporter": "python",
   "pygments_lexer": "ipython3",
   "version": "3.6.8"
  }
 },
 "nbformat": 4,
 "nbformat_minor": 4
}
